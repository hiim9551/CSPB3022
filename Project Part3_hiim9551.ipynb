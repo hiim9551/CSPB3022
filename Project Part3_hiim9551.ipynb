{
 "cells": [
  {
   "cell_type": "markdown",
   "metadata": {},
   "source": [
    "# CSCI 3022 Homework - Project Part 3\n",
    "\n",
    "## NAME = \"hiim9551\"\n"
   ]
  },
  {
   "cell_type": "code",
   "execution_count": 22,
   "metadata": {},
   "outputs": [],
   "source": [
    "%matplotlib inline\n",
    "import pandas as pd\n",
    "import numpy as np\n",
    "import matplotlib.pyplot as plt\n",
    "import scipy as sp\n",
    "import scipy.stats as stats\n",
    "import matplotlib.pyplot as plt\n",
    "import seaborn as sns; sns.set()\n",
    "import patsy\n",
    "import sklearn\n",
    "from sklearn.discriminant_analysis import LinearDiscriminantAnalysis\n",
    "from sklearn.discriminant_analysis import QuadraticDiscriminantAnalysis"
   ]
  },
  {
   "cell_type": "code",
   "execution_count": 23,
   "metadata": {},
   "outputs": [
    {
     "name": "stdout",
     "output_type": "stream",
     "text": [
      "       age          job  marital            education  default housing loan  \\\n",
      "0       56    housemaid  married             basic.4y       no      no   no   \n",
      "1       57     services  married          high.school  unknown      no   no   \n",
      "2       37     services  married          high.school       no     yes   no   \n",
      "3       40       admin.  married             basic.6y       no      no   no   \n",
      "4       56     services  married          high.school       no      no  yes   \n",
      "...    ...          ...      ...                  ...      ...     ...  ...   \n",
      "41183   73      retired  married  professional.course       no     yes   no   \n",
      "41184   46  blue-collar  married  professional.course       no      no   no   \n",
      "41185   56      retired  married    university.degree       no     yes   no   \n",
      "41186   44   technician  married  professional.course       no      no   no   \n",
      "41187   74      retired  married  professional.course       no     yes   no   \n",
      "\n",
      "         contact month day_of_week  ...  campaign  pdays  previous  \\\n",
      "0      telephone   may         mon  ...         1    999         0   \n",
      "1      telephone   may         mon  ...         1    999         0   \n",
      "2      telephone   may         mon  ...         1    999         0   \n",
      "3      telephone   may         mon  ...         1    999         0   \n",
      "4      telephone   may         mon  ...         1    999         0   \n",
      "...          ...   ...         ...  ...       ...    ...       ...   \n",
      "41183   cellular   nov         fri  ...         1    999         0   \n",
      "41184   cellular   nov         fri  ...         1    999         0   \n",
      "41185   cellular   nov         fri  ...         2    999         0   \n",
      "41186   cellular   nov         fri  ...         1    999         0   \n",
      "41187   cellular   nov         fri  ...         3    999         1   \n",
      "\n",
      "          poutcome emp.var.rate  cons.price.idx  cons.conf.idx  euribor3m  \\\n",
      "0      nonexistent          1.1          93.994          -36.4      4.857   \n",
      "1      nonexistent          1.1          93.994          -36.4      4.857   \n",
      "2      nonexistent          1.1          93.994          -36.4      4.857   \n",
      "3      nonexistent          1.1          93.994          -36.4      4.857   \n",
      "4      nonexistent          1.1          93.994          -36.4      4.857   \n",
      "...            ...          ...             ...            ...        ...   \n",
      "41183  nonexistent         -1.1          94.767          -50.8      1.028   \n",
      "41184  nonexistent         -1.1          94.767          -50.8      1.028   \n",
      "41185  nonexistent         -1.1          94.767          -50.8      1.028   \n",
      "41186  nonexistent         -1.1          94.767          -50.8      1.028   \n",
      "41187      failure         -1.1          94.767          -50.8      1.028   \n",
      "\n",
      "       nr.employed    y  \n",
      "0           5191.0   no  \n",
      "1           5191.0   no  \n",
      "2           5191.0   no  \n",
      "3           5191.0   no  \n",
      "4           5191.0   no  \n",
      "...            ...  ...  \n",
      "41183       4963.6  yes  \n",
      "41184       4963.6   no  \n",
      "41185       4963.6   no  \n",
      "41186       4963.6  yes  \n",
      "41187       4963.6   no  \n",
      "\n",
      "[41188 rows x 21 columns]\n"
     ]
    }
   ],
   "source": [
    "df = pd.read_csv('bank-additional-full.csv')\n",
    "print(df)"
   ]
  },
  {
   "cell_type": "markdown",
   "metadata": {},
   "source": [
    "## Project topic\n",
    "The goal of this project is to examine if any attributes of bank client demographics show strong correlation with the results of successful bank marketing campaign, which was to convince customers to subscribe the bank term deposit by soliciting them with phone calls. \n",
    "While the approach of phone marketing sounds a bit old-fashioned way nowadays, I am motivated to identify certain attributes of customers who tend to be convinced by this bank marketing campaign so that such data can be applied when targeting customers via online advertising. The type of this problem is classification.  "
   ]
  },
  {
   "cell_type": "markdown",
   "metadata": {},
   "source": [
    "## Data source\n",
    "The data I am going to use is related with direct marketing campaigns (phone calls) of a Portuguese banking institution. The data shows you 20 attributes related to customers and social / economic index and whether customers subscribed the bank term deposit.  \n",
    "\n",
    "It is sourced from \"Bank Marketing Data Set\" at UCI Machine Learning Repository page as follows: \n",
    "* https://archive.ics.uci.edu/ml/datasets/Bank+Marketing\n",
    "\n",
    "Size of data: data sample size is 41188, number of columns is 20 and bytesize is 5699KB.  \n",
    "\n",
    "Data type: each feature can be categorized into 4 areas: 1) bank client data, 2) related with the last contact of the current campaign, 3) other attributes and 4) social and economic context attributes. \n",
    "\n",
    "There are 10 numeric attributes and 10 categorical attributes.  Some key features include: basic client data (such as age, job, marital status, education, default history, housing loan, personal loan), information related with the last contact of the current campaign (such as contact communication type (cellular phone or home phone), month of contact, day of week of contact, duration of contact), other attributes (such as outcome of the previous marketing campaign) and some economic index (such as employment rate, CPI, EURIBOR). The data is multi-table form.  "
   ]
  },
  {
   "cell_type": "markdown",
   "metadata": {},
   "source": [
    "## Data cleaning and EDA\n",
    "\n",
    "I will drop features in 2) related with the last contact of the current campaign, 3) other attributes, and 4) social and economic context attributes, because the goal of this project is to examine the relations between bank client demographics and the result of purchases and thus the features in 2), 3) and 4) are not relevant. \n",
    "\n",
    "df below shows you the data frame which include 1) bank client data only.  "
   ]
  },
  {
   "cell_type": "code",
   "execution_count": 24,
   "metadata": {},
   "outputs": [
    {
     "name": "stdout",
     "output_type": "stream",
     "text": [
      "       age          job  marital            education  default housing loan  \\\n",
      "0       56    housemaid  married             basic.4y       no      no   no   \n",
      "1       57     services  married          high.school  unknown      no   no   \n",
      "2       37     services  married          high.school       no     yes   no   \n",
      "3       40       admin.  married             basic.6y       no      no   no   \n",
      "4       56     services  married          high.school       no      no  yes   \n",
      "...    ...          ...      ...                  ...      ...     ...  ...   \n",
      "41183   73      retired  married  professional.course       no     yes   no   \n",
      "41184   46  blue-collar  married  professional.course       no      no   no   \n",
      "41185   56      retired  married    university.degree       no     yes   no   \n",
      "41186   44   technician  married  professional.course       no      no   no   \n",
      "41187   74      retired  married  professional.course       no     yes   no   \n",
      "\n",
      "         y  \n",
      "0       no  \n",
      "1       no  \n",
      "2       no  \n",
      "3       no  \n",
      "4       no  \n",
      "...    ...  \n",
      "41183  yes  \n",
      "41184   no  \n",
      "41185   no  \n",
      "41186  yes  \n",
      "41187   no  \n",
      "\n",
      "[41188 rows x 8 columns]\n"
     ]
    }
   ],
   "source": [
    "df = pd.DataFrame(data = df, columns = ['age', 'job', 'marital', 'education', 'default', 'housing', 'loan', 'y'])\n",
    "print(df)"
   ]
  },
  {
   "cell_type": "markdown",
   "metadata": {},
   "source": [
    "## Checking the relations of purchases and certain attributes\n",
    "\n",
    "For Part 1, I focused on relations between the results of purchases and certain attributes which intuitively seem to be important, such as job, education and housing loan.  I analysed these by counting the number of purchase behavior classified by these attributes and visualized the results with histogram to examine if I could identify certain trend from these attributes.  \n",
    "\n",
    "For Part 2, I visualized the ratio between \"yes\" (those who purchased)  and \"no\" (those who did not) for more precise analysis. I also added a numeric attribute (i.e., age) to examine if there is noteworthy trends from that.  \n",
    "\n",
    "Details of these attributes are shown below: \n",
    "* age: age\n",
    "* job : type of job -- 'admin.','blue-collar','entrepreneur','housemaid','management','retired','self-employed','services','student','technician','unemployed','unknown'\n",
    "* education: 'basic.4y','basic.6y','basic.9y','high.school','illiterate','professional.course','university.degree','unknown'\n",
    "* housing: has housing loan?  -- 'no','yes','unknown'\n",
    "\n",
    "Those who purcahsed the bank term deposit responds \"yes\" and are shown in orange in the histogram.  "
   ]
  },
  {
   "cell_type": "code",
   "execution_count": 25,
   "metadata": {},
   "outputs": [
    {
     "name": "stdout",
     "output_type": "stream",
     "text": [
      "age  y  \n",
      "17   no      3\n",
      "     yes     2\n",
      "18   no     16\n",
      "     yes    12\n",
      "19   no     22\n",
      "            ..\n",
      "92   no      1\n",
      "     yes     3\n",
      "94   no      1\n",
      "95   no      1\n",
      "98   yes     2\n",
      "Name: job, Length: 150, dtype: int64\n"
     ]
    },
    {
     "data": {
      "text/plain": [
       "<AxesSubplot:xlabel='age'>"
      ]
     },
     "execution_count": 25,
     "metadata": {},
     "output_type": "execute_result"
    },
    {
     "data": {
      "image/png": "[encoded data removed]",
      "text/plain": [
       "<Figure size 1656x360 with 1 Axes>"
      ]
     },
     "metadata": {},
     "output_type": "display_data"
    }
   ],
   "source": [
    "df_a = df.groupby(['age', 'y']).count().job\n",
    "print(df_a)\n",
    "df_a.unstack().plot(kind='bar', stacked=True, figsize=(23,5))"
   ]
  },
  {
   "cell_type": "code",
   "execution_count": 26,
   "metadata": {},
   "outputs": [
    {
     "name": "stdout",
     "output_type": "stream",
     "text": [
      "age  y  \n",
      "17   no     0.600000\n",
      "     yes    0.400000\n",
      "18   no     0.571429\n",
      "     yes    0.428571\n",
      "19   no     0.523810\n",
      "              ...   \n",
      "92   no     0.250000\n",
      "     yes    0.750000\n",
      "94   no     1.000000\n",
      "95   no     1.000000\n",
      "98   yes    1.000000\n",
      "Name: job, Length: 150, dtype: float64\n"
     ]
    },
    {
     "data": {
      "image/png": "[encoded data removed]",
      "text/plain": [
       "<Figure size 1656x360 with 1 Axes>"
      ]
     },
     "metadata": {},
     "output_type": "display_data"
    }
   ],
   "source": [
    "prob_a = df_a / df_a.sum(level='age')\n",
    "print(prob_a)\n",
    "prob_a.unstack().plot(kind='bar', stacked=True, figsize=(23,5));"
   ]
  },
  {
   "cell_type": "code",
   "execution_count": 27,
   "metadata": {},
   "outputs": [
    {
     "name": "stdout",
     "output_type": "stream",
     "text": [
      "job            y  \n",
      "admin.         no     9070\n",
      "               yes    1352\n",
      "blue-collar    no     8616\n",
      "               yes     638\n",
      "entrepreneur   no     1332\n",
      "               yes     124\n",
      "housemaid      no      954\n",
      "               yes     106\n",
      "management     no     2596\n",
      "               yes     328\n",
      "retired        no     1286\n",
      "               yes     434\n",
      "self-employed  no     1272\n",
      "               yes     149\n",
      "services       no     3646\n",
      "               yes     323\n",
      "student        no      600\n",
      "               yes     275\n",
      "technician     no     6013\n",
      "               yes     730\n",
      "unemployed     no      870\n",
      "               yes     144\n",
      "unknown        no      293\n",
      "               yes      37\n",
      "Name: age, dtype: int64\n"
     ]
    },
    {
     "data": {
      "image/png": "[encoded data removed]",
      "text/plain": [
       "<Figure size 504x144 with 1 Axes>"
      ]
     },
     "metadata": {},
     "output_type": "display_data"
    }
   ],
   "source": [
    "df_j = df.groupby(['job', 'y']).count().age\n",
    "print(df_j)\n",
    "df_j.unstack().plot(kind='bar', stacked=True, figsize=(7,2));"
   ]
  },
  {
   "cell_type": "code",
   "execution_count": 28,
   "metadata": {},
   "outputs": [
    {
     "name": "stdout",
     "output_type": "stream",
     "text": [
      "job            y  \n",
      "admin.         no     0.870274\n",
      "               yes    0.129726\n",
      "blue-collar    no     0.931057\n",
      "               yes    0.068943\n",
      "entrepreneur   no     0.914835\n",
      "               yes    0.085165\n",
      "housemaid      no     0.900000\n",
      "               yes    0.100000\n",
      "management     no     0.887825\n",
      "               yes    0.112175\n",
      "retired        no     0.747674\n",
      "               yes    0.252326\n",
      "self-employed  no     0.895144\n",
      "               yes    0.104856\n",
      "services       no     0.918619\n",
      "               yes    0.081381\n",
      "student        no     0.685714\n",
      "               yes    0.314286\n",
      "technician     no     0.891740\n",
      "               yes    0.108260\n",
      "unemployed     no     0.857988\n",
      "               yes    0.142012\n",
      "unknown        no     0.887879\n",
      "               yes    0.112121\n",
      "Name: age, dtype: float64\n"
     ]
    },
    {
     "data": {
      "image/png": "[encoded data removed]",
      "text/plain": [
       "<Figure size 504x144 with 1 Axes>"
      ]
     },
     "metadata": {},
     "output_type": "display_data"
    }
   ],
   "source": [
    "prob_j = df_j / df_j.sum(level='job')\n",
    "print(prob_j)\n",
    "prob_j.unstack().plot(kind='bar', stacked=True, figsize=(7,2));"
   ]
  },
  {
   "cell_type": "code",
   "execution_count": 29,
   "metadata": {},
   "outputs": [
    {
     "name": "stdout",
     "output_type": "stream",
     "text": [
      "education            y  \n",
      "basic.4y             no      3748\n",
      "                     yes      428\n",
      "basic.6y             no      2104\n",
      "                     yes      188\n",
      "basic.9y             no      5572\n",
      "                     yes      473\n",
      "high.school          no      8484\n",
      "                     yes     1031\n",
      "illiterate           no        14\n",
      "                     yes        4\n",
      "professional.course  no      4648\n",
      "                     yes      595\n",
      "university.degree    no     10498\n",
      "                     yes     1670\n",
      "unknown              no      1480\n",
      "                     yes      251\n",
      "Name: age, dtype: int64\n"
     ]
    },
    {
     "data": {
      "image/png": "[encoded data removed]",
      "text/plain": [
       "<Figure size 504x144 with 1 Axes>"
      ]
     },
     "metadata": {},
     "output_type": "display_data"
    }
   ],
   "source": [
    "df_e = df.groupby(['education', 'y']).count().age\n",
    "print(df_e)\n",
    "df_e.unstack().plot(kind='bar', stacked=True, figsize=(7,2));"
   ]
  },
  {
   "cell_type": "code",
   "execution_count": 30,
   "metadata": {},
   "outputs": [
    {
     "name": "stdout",
     "output_type": "stream",
     "text": [
      "education            y  \n",
      "basic.4y             no     0.897510\n",
      "                     yes    0.102490\n",
      "basic.6y             no     0.917976\n",
      "                     yes    0.082024\n",
      "basic.9y             no     0.921754\n",
      "                     yes    0.078246\n",
      "high.school          no     0.891645\n",
      "                     yes    0.108355\n",
      "illiterate           no     0.777778\n",
      "                     yes    0.222222\n",
      "professional.course  no     0.886515\n",
      "                     yes    0.113485\n",
      "university.degree    no     0.862755\n",
      "                     yes    0.137245\n",
      "unknown              no     0.854997\n",
      "                     yes    0.145003\n",
      "Name: age, dtype: float64\n"
     ]
    },
    {
     "data": {
      "image/png": "[encoded data removed]",
      "text/plain": [
       "<Figure size 504x144 with 1 Axes>"
      ]
     },
     "metadata": {},
     "output_type": "display_data"
    }
   ],
   "source": [
    "prob_e = df_e / df_e.sum(level='education')\n",
    "print(prob_e)\n",
    "prob_e.unstack().plot(kind='bar', stacked=True, figsize=(7,2));"
   ]
  },
  {
   "cell_type": "code",
   "execution_count": 31,
   "metadata": {},
   "outputs": [
    {
     "name": "stdout",
     "output_type": "stream",
     "text": [
      "housing  y  \n",
      "no       no     16596\n",
      "         yes     2026\n",
      "unknown  no       883\n",
      "         yes      107\n",
      "yes      no     19069\n",
      "         yes     2507\n",
      "Name: age, dtype: int64\n"
     ]
    },
    {
     "data": {
      "image/png": "[encoded data removed]",
      "text/plain": [
       "<Figure size 504x144 with 1 Axes>"
      ]
     },
     "metadata": {},
     "output_type": "display_data"
    }
   ],
   "source": [
    "df_h = df.groupby(['housing', 'y']).count().age\n",
    "print(df_h)\n",
    "df_h.unstack().plot(kind='bar', stacked=True, figsize=(7,2));"
   ]
  },
  {
   "cell_type": "code",
   "execution_count": 32,
   "metadata": {},
   "outputs": [
    {
     "name": "stdout",
     "output_type": "stream",
     "text": [
      "housing  y  \n",
      "no       no     0.891204\n",
      "         yes    0.108796\n",
      "unknown  no     0.891919\n",
      "         yes    0.108081\n",
      "yes      no     0.883806\n",
      "         yes    0.116194\n",
      "Name: age, dtype: float64\n"
     ]
    },
    {
     "data": {
      "image/png": "[encoded data removed]",
      "text/plain": [
       "<Figure size 504x144 with 1 Axes>"
      ]
     },
     "metadata": {},
     "output_type": "display_data"
    }
   ],
   "source": [
    "prob_h = df_h / df_h.sum(level='housing')\n",
    "print(prob_h)\n",
    "prob_h.unstack().plot(kind='bar', stacked=True, figsize=(7,2));"
   ]
  },
  {
   "cell_type": "markdown",
   "metadata": {},
   "source": [
    "## EDA Summary\n",
    "As can be seen from the above, there are certain attributes that show orange ('yes') more, which would indicate that client tends to purchase the bank product based on telemarketing.  Specifically, from age demographics, those who are at the age above 60 or below 20 years old show tendency to purchase the bank product.  Other attributes which show the similar tendency include those who are admin, retired or student from jobs demographics as well as those who are illiterate or completed university degree or professional course from education.  Whether or not to have housing loan does not indicate significant difference.\n",
    "\n",
    "The difficulties in analyzing these data is that there are not enough sample size for those who show significantly higher ratio of 'yes' (such as the age above 60, or those who are illiterate). Indeed, if you look at the first histogram of age demographics, it can be found that most of the customers who were reached out by the bank are from 20s to 50s. As such, the significant trends from limited sample size may not be useful for analysis.  Furthermore, as the age is the only numeric attribute from dataset and other attributes are categorical with multiple possible values, not with binary outcome, this may create additional difficulties in building a model at Part 3 of the Project. "
   ]
  },
  {
   "cell_type": "markdown",
   "metadata": {},
   "source": [
    "## Plans for model approach"
   ]
  },
  {
   "cell_type": "markdown",
   "metadata": {},
   "source": [
    "As mentioned in the beginning, this is a classification problem.  Hence, I plan to try the multiclass logistic regression or discriminate analysis model for Part 3 of the project.  The reason is that most attributes of bank client data are not based on binary outcome, but rather, there are multiple possible values in the response variable.  If I try the linear regression model with the available dataset, then the regression will not do a good job as a classifier because most attributes are not based on binary outcome.  "
   ]
  },
  {
   "cell_type": "markdown",
   "metadata": {},
   "source": [
    "## Multiclass Logistic Models\n",
    "In part 3, I will build the logistic classification model that maximizes the accuracy of predicting whether a bank customer purchases bank term deposits based on phone marketing.  For comparison, I will also use the K-Nearest Neighbors classification method to predict whether a bank customer purchases.  Both models will also show the prediction accuracy. "
   ]
  },
  {
   "cell_type": "code",
   "execution_count": 33,
   "metadata": {},
   "outputs": [
    {
     "name": "stdout",
     "output_type": "stream",
     "text": [
      "Index(['age', 'job', 'marital', 'education', 'default', 'housing', 'loan',\n",
      "       'y'],\n",
      "      dtype='object')\n",
      "age           int64\n",
      "job          object\n",
      "marital      object\n",
      "education    object\n",
      "default      object\n",
      "housing      object\n",
      "loan         object\n",
      "y            object\n",
      "dtype: object\n"
     ]
    }
   ],
   "source": [
    "print(df.columns)\n",
    "print(df.dtypes)"
   ]
  },
  {
   "cell_type": "code",
   "execution_count": 34,
   "metadata": {},
   "outputs": [
    {
     "name": "stdout",
     "output_type": "stream",
     "text": [
      "[[-1.24223045 -0.36295699 -0.3147397   0.04732697 -0.09515958  0.86936435\n",
      "  -0.26530765 -0.2959791   1.01453322 -0.1434724   0.32832389  0.28212708\n",
      "   0.09384075  0.38802022  0.33798143 -0.01188352 -0.16464647 -0.08540052\n",
      "  -0.12652119 -0.0441371   0.13090497  0.27535006 -0.97056952 -0.03159336\n",
      "  -0.11060173  0.06132639 -0.11060173 -0.02408578  0.01368715]] [-1.39871261]\n",
      "[0. 0. 0. ... 0. 0. 0.]\n",
      "[[18267     0]\n",
      " [ 2327     0]]\n",
      "0.8870059240555501\n"
     ]
    },
    {
     "name": "stderr",
     "output_type": "stream",
     "text": [
      "/opt/conda/lib/python3.8/site-packages/sklearn/linear_model/_logistic.py:762: ConvergenceWarning: lbfgs failed to converge (status=1):\n",
      "STOP: TOTAL NO. of ITERATIONS REACHED LIMIT.\n",
      "\n",
      "Increase the number of iterations (max_iter) or scale the data as shown in:\n",
      "    https://scikit-learn.org/stable/modules/preprocessing.html\n",
      "Please also refer to the documentation for alternative solver options:\n",
      "    https://scikit-learn.org/stable/modules/linear_model.html#logistic-regression\n",
      "  n_iter_i = _check_optimize_result(\n"
     ]
    }
   ],
   "source": [
    "df['y_bool'] = (df.y == 'yes').astype(int) # yes is 1.  \n",
    "# First, I build the model which includes all columns for bank client demographics\n",
    "y,X = patsy.dmatrices(\"y_bool ~ age + job + marital + education + default + housing + loan\", data=df, return_type='dataframe')  \n",
    "\n",
    "# Next, I use the even data elements for training set and the odd data elements for the testing set. \n",
    "#As such, train_set = y[::2], X[::2] and test_set = y[1::2], X[1::2].  \n",
    "\n",
    "logistic_classificatin_model = sklearn.linear_model.LogisticRegression()\n",
    "y_model = logistic_classificatin_model.fit(X[::2],np.ravel(y[::2]))\n",
    "print(y_model.coef_, y_model.intercept_)\n",
    "y_pred = y_model.predict(X[1::2])\n",
    "print(y_pred)\n",
    "from sklearn.metrics import confusion_matrix\n",
    "cm = confusion_matrix(y[1::2], y_pred)\n",
    "print(cm)  # The confusion matrix shows that all responses predict \"No\"\n",
    "\n",
    "accuracy = y_model.score(X[1::2], y[1::2])\n",
    "print(accuracy) #The accuracy of prediction is: 0.8870059240555501"
   ]
  },
  {
   "cell_type": "markdown",
   "metadata": {},
   "source": [
    "## Results, Analysis and Discussion\n",
    "As can be seen from the confusion matrix above, when the model considers all attributes, the model predicts that all responses are \"No (not buy)\" with the accuracy rate of 0.8870059240555501.  I assumed this would be because the ratio of \"Yes (buy)\" is so small, the model would just predict all \"No (not buy)\", although there are actually 2327 \"Yes (buy)\".  But it is not ideal if the model just predicts all customers don't buy the bank product due to the fact that the number of customers who purchased was very small. \n",
    "\n",
    "I looked back the anaylsis for \"age\" made in Project 2, which shows the tendency that younger and older generations buy the bank product than the generations in the middle. Under such circumstance, I assumed that polynomial regression would fit better than a simple linear regression.  Hence, to resolve the issue above, I went back to the first model to try building polynomial regression for \"age\" demographics.  The result is shown below: "
   ]
  },
  {
   "cell_type": "code",
   "execution_count": 35,
   "metadata": {},
   "outputs": [
    {
     "name": "stdout",
     "output_type": "stream",
     "text": [
      "[[ 0.15409758 -0.3324784  -0.13152541 -0.00392909 -0.05688583  0.26169714\n",
      "  -0.1305124  -0.29396829  0.48279525 -0.14610198  0.17734587  0.0479792\n",
      "   0.10625376  0.31464789  0.02801567 -0.00612308 -0.13207948 -0.00904855\n",
      "  -0.00782609  0.03137787  0.13004095  0.24915247 -0.99926918 -0.00199698\n",
      "  -0.06206924  0.05659184 -0.06206924 -0.02266223 -0.12730308  0.00157569]] [0.15466322]\n",
      "[0. 0. 0. ... 0. 0. 0.]\n",
      "[[18217    50]\n",
      " [ 2268    59]]\n",
      "0.8874429445469554\n"
     ]
    }
   ],
   "source": [
    "df['y_bool'] = (df.y == 'yes').astype(int) # yes is 1.  \n",
    "# Second, I build the model which includes all columns for bank client demographics with polynomial regression for age demographics\n",
    "y,X = patsy.dmatrices(\"y_bool ~ age + np.power(age, 2) + job + marital + education + default + housing + loan\", data=df, return_type='dataframe')  \n",
    "\n",
    "# I use the even data elements for training set and the odd data elements for the testing set. As such, train_set = y[::2], X[::2] and test_set = y[1::2], X[1::2].  \n",
    "\n",
    "logistic_classificatin_model = sklearn.linear_model.LogisticRegression()\n",
    "y_model = logistic_classificatin_model.fit(X[::2],np.ravel(y[::2]))\n",
    "print(y_model.coef_, y_model.intercept_)\n",
    "y_pred = y_model.predict(X[1::2])\n",
    "print(y_pred)\n",
    "from sklearn.metrics import confusion_matrix\n",
    "cm = confusion_matrix(y[1::2], y_pred)\n",
    "print(cm)  # Unlike the result above, the confusion matrix includes some responses predict \"Yes\"\n",
    "\n",
    "accuracy = y_model.score(X[1::2], y[1::2])\n",
    "print(accuracy) #The accuracy of prediction is: 0.8874429445469554"
   ]
  },
  {
   "cell_type": "markdown",
   "metadata": {},
   "source": [
    "## Results, Analysis and Discussion\n",
    "As can be seen from the confusion matrix above, compared to the first model, the second model improved in that the confusion matrix shows some responses are predicted to be \"Yes (buy)\" with a slightly better accuracy rate of 0.8874429445469554. \n",
    "\n",
    "Then I reiterated the model several times to examine which model would maximize the accuracy rate.  The results are shown below: \n",
    "* If job reduced, the accuracy of prediction is: 0.8873458288821987\n",
    "* If job + marital reduced: 0.887394386714577\n",
    "* If job + marital + education reduced: 0.887394386714577\n",
    "* If job + marital + education + default reduced: 0.8870544818879286\n",
    "* If housing reduced: 0.8875886180440905\n",
    "* If housing + default reduced: 0.887394386714577\n",
    "* If housing + default + loan reduced: 0.8873458288821987\n",
    "* If housing + loan reduced: 0.8875886180440905"
   ]
  },
  {
   "cell_type": "code",
   "execution_count": 36,
   "metadata": {},
   "outputs": [
    {
     "name": "stdout",
     "output_type": "stream",
     "text": [
      "[[ 0.12194269 -0.38439787 -0.08035037 -0.00511209 -0.00627652  0.21114874\n",
      "  -0.07986935 -0.22637349  0.34437995 -0.09243724  0.12488365  0.02935776\n",
      "   0.12295958  0.21777128  0.01663007 -0.03543103 -0.17359641  0.00588607\n",
      "  -0.00502049  0.02492854  0.24655761  0.16881555 -0.93934763 -0.00120179\n",
      "  -0.12406327  0.00153738]] [0.12212859]\n",
      "[0. 0. 0. ... 0. 0. 0.]\n",
      "[[18222    45]\n",
      " [ 2270    57]]\n",
      "0.8875886180440905\n"
     ]
    }
   ],
   "source": [
    "df['y_bool'] = (df.y == 'yes').astype(int) # yes is 1.  \n",
    "y,X = patsy.dmatrices(\"y_bool ~ age + np.power(age, 2) + job + marital + education + default\", data=df, return_type='dataframe')  \n",
    "# If job reduced, the accuracy of prediction is: 0.8873458288821987\n",
    "# If job + marital reduced: 0.887394386714577\n",
    "# If job + marital + education reduced: 0.887394386714577\n",
    "# If job + marital + education + default reduced: 0.8870544818879286\n",
    "# If housing reduced: 0.8875886180440905\n",
    "# If housing + default reduced: 0.887394386714577\n",
    "# If housing + default + loan reduced: 0.8873458288821987\n",
    "# If housing + loan reduced: 0.8875886180440905\n",
    "#print(y, X)\n",
    "\n",
    "# I use the even data elements for training set and the odd data elements for the testing set. As such, train_set = y[::2], X[::2] and test_set = y[1::2], X[1::2].  \n",
    "\n",
    "logistic_classificatin_model = sklearn.linear_model.LogisticRegression()\n",
    "y_model = logistic_classificatin_model.fit(X[::2],np.ravel(y[::2]))\n",
    "print(y_model.coef_, y_model.intercept_)\n",
    "y_pred = y_model.predict(X[1::2])\n",
    "print(y_pred)\n",
    "from sklearn.metrics import confusion_matrix\n",
    "cm = confusion_matrix(y[1::2], y_pred)\n",
    "print(cm)\n",
    "\n",
    "accuracy = y_model.score(X[1::2], y[1::2])\n",
    "print(accuracy) #The accuracy of prediction is: 0.8875886180440905"
   ]
  },
  {
   "cell_type": "markdown",
   "metadata": {},
   "source": [
    "## Summary of Results and Analysis for the logistic classification model\n",
    "Considering the above results, it comes to the conclusion that removing \"housing\" and \"loan\" show the maximum accuracy rate for the model.  In other words, the model should use \"age\" (polynomial regression), \"job\", \"marital\", \"education\" and \"default\" for prediction.  Indeed, this corresponds to the EDA Summary under Project 1 and Project 2 that whether or not to have housing loan does not indicate significant difference.  "
   ]
  },
  {
   "cell_type": "markdown",
   "metadata": {},
   "source": [
    "## KNN Model\n",
    "Next, I use the K-Nearest Neighbors classification method to predict whether the bank customer purchases the bank product based on phone marketing.  I also attempt to find the smallest K that maximizes the accuracy. "
   ]
  },
  {
   "cell_type": "code",
   "execution_count": 37,
   "metadata": {},
   "outputs": [
    {
     "name": "stdout",
     "output_type": "stream",
     "text": [
      "[0. 1. 0. ... 1. 0. 0.]\n",
      "0.8286394095367583\n"
     ]
    }
   ],
   "source": [
    "from sklearn.neighbors import KNeighborsClassifier\n",
    "\n",
    "# Again I use the even data elements for training set and the odd data elements for the testing set. As such, train_set = y[::2], X[::2] and test_set = y[1::2], X[1::2].  \n",
    "# First, I try with K = 1\n",
    "neigh = KNeighborsClassifier(n_neighbors=1, weights = 'uniform') \n",
    "neigh.fit(X[::2],np.ravel(y[::2]))\n",
    "y_knn_pred = neigh.predict(X[1::2])\n",
    "print(y_knn_pred)\n",
    "\n",
    "score = neigh.score(X[1::2], np.ravel(y[1::2]))\n",
    "print(score) # 0.8286394095367583 (K = 1)"
   ]
  },
  {
   "cell_type": "code",
   "execution_count": 38,
   "metadata": {},
   "outputs": [
    {
     "name": "stdout",
     "output_type": "stream",
     "text": [
      "[0. 0. 0. ... 0. 0. 0.]\n",
      "0.8776828202389045\n"
     ]
    }
   ],
   "source": [
    "from sklearn.neighbors import KNeighborsClassifier\n",
    "\n",
    "# Again I use the even data elements for training set and the odd data elements for the testing set. As such, train_set = y[::2], X[::2] and test_set = y[1::2], X[1::2].  \n",
    "# Second, I try with K = 2\n",
    "\n",
    "neigh = KNeighborsClassifier(n_neighbors=2, weights = 'uniform')\n",
    "neigh.fit(X[::2],np.ravel(y[::2]))\n",
    "y_knn_pred = neigh.predict(X[1::2])\n",
    "print(y_knn_pred)\n",
    "\n",
    "score = neigh.score(X[1::2], np.ravel(y[1::2]))\n",
    "print(score) # 0.8776828202389045 (K = 2)"
   ]
  },
  {
   "cell_type": "code",
   "execution_count": 39,
   "metadata": {},
   "outputs": [
    {
     "name": "stdout",
     "output_type": "stream",
     "text": [
      "[0. 0. 0. ... 1. 1. 0.]\n",
      "0.868116927260367\n"
     ]
    }
   ],
   "source": [
    "from sklearn.neighbors import KNeighborsClassifier\n",
    "\n",
    "# Again I use the even data elements for training set and the odd data elements for the testing set. As such, train_set = y[::2], X[::2] and test_set = y[1::2], X[1::2].  \n",
    "# Third, I try with K = 3\n",
    "\n",
    "neigh = KNeighborsClassifier(n_neighbors=3, weights = 'uniform')\n",
    "neigh.fit(X[::2],np.ravel(y[::2]))\n",
    "y_knn_pred = neigh.predict(X[1::2])\n",
    "print(y_knn_pred)\n",
    "\n",
    "score = neigh.score(X[1::2], np.ravel(y[1::2]))\n",
    "print(score) # 0.868116927260367 (K = 3)"
   ]
  },
  {
   "cell_type": "code",
   "execution_count": 40,
   "metadata": {},
   "outputs": [
    {
     "name": "stdout",
     "output_type": "stream",
     "text": [
      "[0. 0. 0. ... 1. 1. 0.]\n",
      "0.8836068757890648\n"
     ]
    }
   ],
   "source": [
    "from sklearn.neighbors import KNeighborsClassifier\n",
    "\n",
    "# Again I use the even data elements for training set and the odd data elements for the testing set. As such, train_set = y[::2], X[::2] and test_set = y[1::2], X[1::2].  \n",
    "# Forth, I try with K = 4\n",
    "neigh = KNeighborsClassifier(n_neighbors=4, weights = 'uniform')\n",
    "neigh.fit(X[::2],np.ravel(y[::2]))\n",
    "y_knn_pred = neigh.predict(X[1::2])\n",
    "print(y_knn_pred)\n",
    "\n",
    "score = neigh.score(X[1::2], np.ravel(y[1::2]))\n",
    "print(score) # 0.8836068757890648 (K = 4)"
   ]
  },
  {
   "cell_type": "code",
   "execution_count": 41,
   "metadata": {},
   "outputs": [
    {
     "name": "stdout",
     "output_type": "stream",
     "text": [
      "[0. 0. 0. ... 1. 1. 0.]\n",
      "0.8808390793434981\n",
      "The smallest K that maximizes the accuracy is: K = 4\n"
     ]
    }
   ],
   "source": [
    "from sklearn.neighbors import KNeighborsClassifier\n",
    "\n",
    "# Again I use the even data elements for training set and the odd data elements for the testing set. As such, train_set = y[::2], X[::2] and test_set = y[1::2], X[1::2].  \n",
    "# Lastly, I try with K = 5\n",
    "neigh = KNeighborsClassifier(n_neighbors=5, weights = 'uniform')\n",
    "neigh.fit(X[::2],np.ravel(y[::2]))\n",
    "y_knn_pred = neigh.predict(X[1::2])\n",
    "print(y_knn_pred)\n",
    "\n",
    "score = neigh.score(X[1::2], np.ravel(y[1::2]))\n",
    "print(score) # 0.8808390793434981 (K = 5)\n",
    "print(\"The smallest K that maximizes the accuracy is: K = 4\")"
   ]
  },
  {
   "cell_type": "markdown",
   "metadata": {},
   "source": [
    "## Summary of results and analysis for KNN Model and comparison \n",
    "I iterated from K = 1 to K = 5 and conclude that the smallest K that maximizes the accuracy rate is K = 4, which shows the accuracy rate of 0.8836068757890648. \n",
    "\n",
    "While the logistic classification model makes it easier for me to infer which attributes are statistically significant and also works well with large datasets, the KNN method does not require training step and very easy to implement for multi-class problems. Both approaches achieved high accuracy rates of more than 0.88, but the KNN technique would be better tool when interested in prediction. "
   ]
  },
  {
   "cell_type": "markdown",
   "metadata": {},
   "source": [
    "## Write-up\n",
    "The goal of this project is to examine which attributes of bank client demographics show strong correlation with the results of successful bank marketing campaign, which was to convince customers to subscribe the bank term deposit by soliciting them with phone calls. \n",
    "\n",
    "While the dataset showed some challenge that most of the responses were \"No (not buy)\", and the sample size for those who responded \"Yes (buy)\" were limited, I improved the initial model by using polynomial model for certain attributes.  \n",
    "\n",
    "In conclusion, by looking at the logistic classification model, it is considered that the attributes of bank client demographics which show correlation with the successful bank marketing are: \"age\", \"job\", \"marital\", \"education\" and \"default\".  Indeed, this conclusion is supported by the EDA Summary under Project 1 and Project 2.  \n",
    "The KNN model suggests that the smallest K that maximizes the accuracy rate for prediction is when K = 4.  "
   ]
  },
  {
   "cell_type": "code",
   "execution_count": null,
   "metadata": {},
   "outputs": [],
   "source": []
  }
 ],
 "metadata": {
  "kernelspec": {
   "display_name": "Python 3",
   "language": "python",
   "name": "python3"
  },
  "language_info": {
   "codemirror_mode": {
    "name": "ipython",
    "version": 3
   },
   "file_extension": ".py",
   "mimetype": "text/x-python",
   "name": "python",
   "nbconvert_exporter": "python",
   "pygments_lexer": "ipython3",
   "version": "3.8.6"
  }
 },
 "nbformat": 4,
 "nbformat_minor": 4
}
